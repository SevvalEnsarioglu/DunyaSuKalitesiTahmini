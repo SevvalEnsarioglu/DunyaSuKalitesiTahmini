# DecisionTreeClassifier modelini seç
dt_clf = models[0][1]  # 'models' listesindeki ilk modelin sınıflandırıcı kısmını seçiyoruz.

# Yeni bir figür başlat
plt.figure()  # Her grafik için yeni bir figür oluşturuyoruz.

# Decision Tree yapısını çiz
tree.plot_tree(
    dt_clf,  # Çizilecek karar ağacı modeli
    feature_names=df.columns.tolist()[:-1],  # Özniteliklerin isimlerini belirt (son sütun hariç, çünkü o hedef değişken)
    class_names=["0", "1"],  # Modelin tahmin ettiği sınıfların isimleri
    filled=True,  # Düğümleri renklerle doldur (sınıf dağılımına göre)
    precision=5  # Gösterilen değerlerde 5 ondalık basamak kullan
)
plt.savefig("decision_tree.png", dpi=300, bbox_inches="tight")  # Dosyayı kaydet

# Grafiği göster
plt.show()  # Karar ağacı yapısını görselleştir.
