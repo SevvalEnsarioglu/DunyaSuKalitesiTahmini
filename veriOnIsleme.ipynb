{
 "cells": [
  {
   "cell_type": "markdown",
   "metadata": {},
   "source": [
    "# Preprocessing: missing value problem, train-test split, normalization"
   ]
  },
  {
   "cell_type": "code",
   "execution_count": 112,
   "metadata": {},
   "outputs": [],
   "source": [
    "import numpy as np #linear algebra\n",
    "import pandas as pd #data processing\n",
    "import seaborn as sns #visualization\n",
    "import matplotlib.pyplot as plt #visualization\n",
    "import plotly.express as px #visualization\n",
    "import missingno as msno #missing no analysis\n",
    "\n",
    "from sklearn.tree import DecisionTreeClassifier\n",
    "from sklearn.ensemble import RandomForestClassifier\n",
    "from sklearn.model_selection import RandomizedSearchCV, RepeatedStratifiedKFold, train_test_split\n",
    "from sklearn.metrics import precision_score, confusion_matrix\n",
    "\n",
    "from sklearn import tree"
   ]
  },
  {
   "cell_type": "code",
   "execution_count": 113,
   "metadata": {},
   "outputs": [],
   "source": [
    "df = pd.read_csv(\"water_potability.csv\")"
   ]
  },
  {
   "cell_type": "code",
   "execution_count": 114,
   "metadata": {},
   "outputs": [
    {
     "data": {
      "text/plain": [
       "ph                 491\n",
       "Hardness             0\n",
       "Solids               0\n",
       "Chloramines          0\n",
       "Sulfate            781\n",
       "Conductivity         0\n",
       "Organic_carbon       0\n",
       "Trihalomethanes    162\n",
       "Turbidity            0\n",
       "Potability           0\n",
       "dtype: int64"
      ]
     },
     "execution_count": 114,
     "metadata": {},
     "output_type": "execute_result"
    }
   ],
   "source": [
    "df.isnull().sum()"
   ]
  },
  {
   "cell_type": "code",
   "execution_count": 115,
   "metadata": {},
   "outputs": [
    {
     "name": "stdout",
     "output_type": "stream",
     "text": [
      "<class 'pandas.core.frame.DataFrame'>\n",
      "RangeIndex: 3276 entries, 0 to 3275\n",
      "Data columns (total 10 columns):\n",
      " #   Column           Non-Null Count  Dtype  \n",
      "---  ------           --------------  -----  \n",
      " 0   ph               2785 non-null   float64\n",
      " 1   Hardness         3276 non-null   float64\n",
      " 2   Solids           3276 non-null   float64\n",
      " 3   Chloramines      3276 non-null   float64\n",
      " 4   Sulfate          2495 non-null   float64\n",
      " 5   Conductivity     3276 non-null   float64\n",
      " 6   Organic_carbon   3276 non-null   float64\n",
      " 7   Trihalomethanes  3114 non-null   float64\n",
      " 8   Turbidity        3276 non-null   float64\n",
      " 9   Potability       3276 non-null   int64  \n",
      "dtypes: float64(9), int64(1)\n",
      "memory usage: 256.1 KB\n"
     ]
    }
   ],
   "source": [
    "df.info()"
   ]
  },
  {
   "cell_type": "code",
   "execution_count": 116,
   "metadata": {},
   "outputs": [],
   "source": [
    "ph_mean_potable = df.loc[df[\"Potability\"] == 1, \"ph\"].mean()\n",
    "ph_mean_non_potable = df.loc[df[\"Potability\"] == 0, \"ph\"].mean()\n",
    "\n",
    "df.loc[(df[\"Potability\"] == 1) & (df[\"ph\"].isnull()), \"ph\"] = ph_mean_potable\n",
    "df.loc[(df[\"Potability\"] == 0) & (df[\"ph\"].isnull()), \"ph\"] = ph_mean_non_potable\n"
   ]
  },
  {
   "cell_type": "code",
   "execution_count": 117,
   "metadata": {},
   "outputs": [],
   "source": [
    "sulfate_mean_potable = df.loc[df[\"Potability\"] == 1, \"Sulfate\"].mean()\n",
    "sulfate_mean_non_potable = df.loc[df[\"Potability\"] == 0, \"Sulfate\"].mean()\n",
    "\n",
    "df.loc[(df[\"Potability\"] == 1) & (df[\"Sulfate\"].isnull()), \"Sulfate\"] = sulfate_mean_potable\n",
    "df.loc[(df[\"Potability\"] == 0) & (df[\"Sulfate\"].isnull()), \"Sulfate\"] = sulfate_mean_non_potable"
   ]
  },
  {
   "cell_type": "code",
   "execution_count": 118,
   "metadata": {},
   "outputs": [],
   "source": [
    "trihalomethanes_mean_potable = df.loc[df[\"Potability\"] == 1, \"Trihalomethanes\"].mean()\n",
    "trihalomethanes_mean_non_potable = df.loc[df[\"Potability\"] == 0, \"Trihalomethanes\"].mean()\n",
    "\n",
    "df.loc[(df[\"Potability\"] == 1) & (df[\"Trihalomethanes\"].isnull()), \"Trihalomethanes\"] = trihalomethanes_mean_potable\n",
    "df.loc[(df[\"Potability\"] == 0) & (df[\"Trihalomethanes\"].isnull()), \"Trihalomethanes\"] = trihalomethanes_mean_non_potable"
   ]
  },
  {
   "cell_type": "code",
   "execution_count": 119,
   "metadata": {},
   "outputs": [
    {
     "data": {
      "text/plain": [
       "ph                 0\n",
       "Hardness           0\n",
       "Solids             0\n",
       "Chloramines        0\n",
       "Sulfate            0\n",
       "Conductivity       0\n",
       "Organic_carbon     0\n",
       "Trihalomethanes    0\n",
       "Turbidity          0\n",
       "Potability         0\n",
       "dtype: int64"
      ]
     },
     "execution_count": 119,
     "metadata": {},
     "output_type": "execute_result"
    }
   ],
   "source": [
    "df.isnull().sum()"
   ]
  },
  {
   "cell_type": "markdown",
   "metadata": {},
   "source": [
    "Train Test Split"
   ]
  },
  {
   "cell_type": "code",
   "execution_count": 120,
   "metadata": {},
   "outputs": [],
   "source": [
    "X = df.drop(\"Potability\", axis = 1).values\n",
    "y = df[\"Potability\"].values\n",
    "\n",
    "X_train, X_test, y_train, y_test = train_test_split(X, y, test_size=0.3, random_state=42)"
   ]
  },
  {
   "cell_type": "markdown",
   "metadata": {},
   "source": [
    "min-max normalization 0-1"
   ]
  },
  {
   "cell_type": "code",
   "execution_count": 121,
   "metadata": {},
   "outputs": [],
   "source": [
    "#her bir feature için min max değerleri buluyoruz\n",
    "x_train_max = np.max(X_train)\n",
    "x_train_min = np.min(X_train)\n",
    "\n",
    "X_train = (X_train - x_train_min)/(x_train_max - x_train_min)\n",
    "X_test = (X_test - x_train_min)/(x_train_max - x_train_min)\n"
   ]
  },
  {
   "cell_type": "code",
   "execution_count": 122,
   "metadata": {},
   "outputs": [],
   "source": [
    "df.to_csv(\"cleaned_data.csv\",index=False)\n"
   ]
  }
 ],
 "metadata": {
  "kernelspec": {
   "display_name": "Python 3",
   "language": "python",
   "name": "python3"
  },
  "language_info": {
   "codemirror_mode": {
    "name": "ipython",
    "version": 3
   },
   "file_extension": ".py",
   "mimetype": "text/x-python",
   "name": "python",
   "nbconvert_exporter": "python",
   "pygments_lexer": "ipython3",
   "version": "3.12.1"
  }
 },
 "nbformat": 4,
 "nbformat_minor": 2
}
